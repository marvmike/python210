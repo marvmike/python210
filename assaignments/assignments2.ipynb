{
 "cells": [
  {
   "cell_type": "markdown",
   "metadata": {},
   "source": [
    "1. Create a function that takes two parameters for : name and age, and outputs a Birthday message “ Happy Birthday ‘name’ I hear you are ‘age’ today!”"
   ]
  },
  {
   "cell_type": "code",
   "execution_count": 1,
   "metadata": {},
   "outputs": [
    {
     "name": "stdout",
     "output_type": "stream",
     "text": [
      "Happy Birthday Alice! I hear you are 25 today!\n"
     ]
    }
   ],
   "source": [
    "def birthday_message(name, age):\n",
    "    return f\"Happy Birthday {name}! I hear you are {age} today!\"\n",
    "\n",
    "print(birthday_message(\"Alice\", 25))"
   ]
  },
  {
   "cell_type": "markdown",
   "metadata": {},
   "source": [
    "2. Create a function that takes two parameters: size and type of drink, and then outputs the drinks order."
   ]
  },
  {
   "cell_type": "code",
   "execution_count": 2,
   "metadata": {},
   "outputs": [
    {
     "name": "stdout",
     "output_type": "stream",
     "text": [
      "You have ordered a large coffee.\n"
     ]
    }
   ],
   "source": [
    "def drink_order(size, drink_type):\n",
    "    return f\"You have ordered a {size} {drink_type}.\"\n",
    "\n",
    "print(drink_order(\"large\", \"coffee\"))"
   ]
  },
  {
   "cell_type": "markdown",
   "metadata": {},
   "source": [
    "3. Create a cash machine program that takes a pin number and amount. Outputs cash is being dispensed if the pin is correct and there is enough money to withdraw. Finally outputs the new balance."
   ]
  },
  {
   "cell_type": "code",
   "execution_count": null,
   "metadata": {},
   "outputs": [],
   "source": [
    "class CashMachine:\n",
    "    def __init__(self, balance, correct_pin):\n",
    "        self.balance = balance\n",
    "        self.correct_pin = correct_pin\n",
    "\n",
    "    def withdraw(self, pin, amount):\n",
    "        if pin != self.correct_pin:\n",
    "            return \"Incorrect PIN.\"\n",
    "        if amount > self.balance:\n",
    "            return \"Insufficient funds.\"\n",
    "        self.balance -= amount\n",
    "        return f\"Dispensing ${amount}. New balance is ${self.balance}.\"\n",
    "\n",
    "atm = CashMachine(balance=1000, correct_pin=1234)\n",
    "print(atm.withdraw(pin=1234, amount=200))\n",
    "print(atm.withdraw(pin=1234, amount=900))\n",
    "print(atm.withdraw(pin=1111, amount=100))"
   ]
  },
  {
   "cell_type": "markdown",
   "metadata": {},
   "source": [
    "  4 . List Exercise "
   ]
  },
  {
   "cell_type": "code",
   "execution_count": 3,
   "metadata": {},
   "outputs": [
    {
     "name": "stdout",
     "output_type": "stream",
     "text": [
      "['Soccer', 'Basketball', 'Tennis', 'Cricket']\n",
      "Hockey\n",
      "[]\n"
     ]
    }
   ],
   "source": [
    "fav_sports = ['Soccer', 'Basketball', 'Tennis', 'Cricket']\n",
    "fav_sports.append('Hockey')\n",
    "print(fav_sports[:4])\n",
    "print(fav_sports[4])\n",
    "fav_sports[fav_sports.index('Hockey')] = 'Ice-Hockey'\n",
    "fav_sports.pop(1)\n",
    "fav_sports.reverse()\n",
    "fav_sports.sort()\n",
    "fav_sports.pop(fav_sports.index('Ice-Hockey'))\n",
    "fav_sports.clear()\n",
    "print(fav_sports)"
   ]
  },
  {
   "cell_type": "markdown",
   "metadata": {},
   "source": [
    "1. Roll The Dice \n",
    " ​Using the random module, can you write a program that rolls a dice.\n",
    "If the dice rolls a 6, print “Congrats! Move 2 spaces!”. If the dice doesn’t roll a 6, print “Try again!”"
   ]
  },
  {
   "cell_type": "code",
   "execution_count": 4,
   "metadata": {},
   "outputs": [
    {
     "name": "stdout",
     "output_type": "stream",
     "text": [
      "Congrats! Move 2 spaces!\n"
     ]
    }
   ],
   "source": [
    "import random\n",
    "\n",
    "def roll_dice():\n",
    "    roll = random.randint(1, 6)\n",
    "    if roll == 6:\n",
    "        print(\"Congrats! Move 2 spaces!\")\n",
    "    else:\n",
    "        print(\"Try again!\")\n",
    "\n",
    "roll_dice()"
   ]
  },
  {
   "cell_type": "markdown",
   "metadata": {},
   "source": [
    "2. Tuple Exercise"
   ]
  },
  {
   "cell_type": "code",
   "execution_count": null,
   "metadata": {},
   "outputs": [],
   "source": [
    "# Create tuples for different items in stock\n",
    "item1 = (\"Apples\", 0.5, 50)\n",
    "item2 = (\"Bananas\", 0.3, 100)\n",
    "item3 = (\"Oranges\", 0.7, 30)\n",
    "item4 = (\"Milk\", 1.5, 20)\n",
    "item5 = (\"Bread\", 2.0, 15)\n",
    "\n",
    "# List of all items\n",
    "inventory = [item1, item2, item3, item4, item5]\n",
    "\n",
    "# Calculate the total value of the inventory\n",
    "total_value = sum(item[1] * item[2] for item in inventory)\n",
    "print(f\"Total value of the inventory: ${total_value}\")\n",
    "\n",
    "# Identify items that need restocking (quantity < 20)\n",
    "items_to_restock = [item[0] for item in inventory if item[2] < 20]\n",
    "print(\"Items that need restocking:\", items_to_restock)"
   ]
  },
  {
   "cell_type": "markdown",
   "metadata": {},
   "source": [
    "3. Set Exercise"
   ]
  },
  {
   "cell_type": "code",
   "execution_count": 5,
   "metadata": {
    "vscode": {
     "languageId": "ruby"
    }
   },
   "outputs": [
    {
     "name": "stdout",
     "output_type": "stream",
     "text": [
      "Common attendees: set()\n",
      "Unique regular attendees: {'Charlie', 'Bob', 'Ivy'}\n",
      "Unique VIP attendees: {'Eva', 'Jack', 'Frank', 'David'}\n",
      "Unique speakers: {'Karen', 'George', 'Hannah'}\n"
     ]
    }
   ],
   "source": [
    "# Create sets for different categories of attendees\n",
    "regular_attendees = {\"Alice\", \"Bob\", \"Charlie\"}\n",
    "vip_attendees = {\"David\", \"Eva\", \"Frank\"}\n",
    "speakers = {\"George\", \"Hannah\", \"Alice\"}\n",
    "\n",
    "# Add attendees to the respective sets\n",
    "regular_attendees.add(\"Ivy\")\n",
    "vip_attendees.add(\"Jack\")\n",
    "speakers.add(\"Karen\")\n",
    "\n",
    "# Perform set operations to analyze the attendee data\n",
    "\n",
    "# Find common attendees between different categories\n",
    "common_attendees = regular_attendees & vip_attendees & speakers\n",
    "print(\"Common attendees:\", common_attendees)\n",
    "\n",
    "# Identify unique attendees in each category\n",
    "unique_regular_attendees = regular_attendees - vip_attendees - speakers\n",
    "unique_vip_attendees = vip_attendees - regular_attendees - speakers\n",
    "unique_speakers = speakers - regular_attendees - vip_attendees\n",
    "\n",
    "print(\"Unique regular attendees:\", unique_regular_attendees)\n",
    "print(\"Unique VIP attendees:\", unique_vip_attendees)\n",
    "print(\"Unique speakers:\", unique_speakers)"
   ]
  },
  {
   "cell_type": "markdown",
   "metadata": {},
   "source": [
    "4. Dictionary Exercise"
   ]
  },
  {
   "cell_type": "code",
   "execution_count": 6,
   "metadata": {},
   "outputs": [
    {
     "name": "stdout",
     "output_type": "stream",
     "text": [
      "Total quantity of products: 225\n",
      "Low-stock items: {'Bread': 15}\n",
      "Information for 'Milk': 20\n",
      "Information for 'Grapes': 40\n",
      "Information for 'Pineapple': Product not found\n"
     ]
    }
   ],
   "source": [
    "# Create a dictionary to represent the inventory\n",
    "inventory = {\n",
    "    \"Apples\": 50,\n",
    "    \"Bananas\": 100,\n",
    "    \"Oranges\": 30,\n",
    "    \"Milk\": 20,\n",
    "    \"Bread\": 15\n",
    "}\n",
    "\n",
    "# Function to update the inventory\n",
    "def update_inventory(product, quantity):\n",
    "    if product in inventory:\n",
    "        inventory[product] += quantity\n",
    "    else:\n",
    "        inventory[product] = quantity\n",
    "\n",
    "# Function to find the total quantity of products\n",
    "def total_quantity():\n",
    "    return sum(inventory.values())\n",
    "\n",
    "# Function to identify low-stock items (quantity < 20)\n",
    "def low_stock_items():\n",
    "    return {product: quantity for product, quantity in inventory.items() if quantity < 20}\n",
    "\n",
    "# Function to retrieve product information\n",
    "def get_product_info(product):\n",
    "    return inventory.get(product, \"Product not found\")\n",
    "\n",
    "# Update the inventory\n",
    "update_inventory(\"Apples\", 20)  # Adding 20 more Apples\n",
    "update_inventory(\"Bananas\", -50)  # Selling 50 Bananas\n",
    "update_inventory(\"Grapes\", 40)  # Adding a new product Grapes\n",
    "\n",
    "# Analyze the inventory data\n",
    "print(\"Total quantity of products:\", total_quantity())\n",
    "print(\"Low-stock items:\", low_stock_items())\n",
    "print(\"Information for 'Milk':\", get_product_info(\"Milk\"))\n",
    "print(\"Information for 'Grapes':\", get_product_info(\"Grapes\"))\n",
    "print(\"Information for 'Pineapple':\", get_product_info(\"Pineapple\"))"
   ]
  }
 ],
 "metadata": {
  "kernelspec": {
   "display_name": "Python 3",
   "language": "python",
   "name": "python3"
  },
  "language_info": {
   "codemirror_mode": {
    "name": "ipython",
    "version": 3
   },
   "file_extension": ".py",
   "mimetype": "text/x-python",
   "name": "python",
   "nbconvert_exporter": "python",
   "pygments_lexer": "ipython3",
   "version": "3.13.1"
  }
 },
 "nbformat": 4,
 "nbformat_minor": 2
}
